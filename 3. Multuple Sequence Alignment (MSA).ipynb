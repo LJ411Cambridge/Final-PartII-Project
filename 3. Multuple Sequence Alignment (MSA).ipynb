{
 "cells": [
  {
   "cell_type": "markdown",
   "id": "f184b2a0-c350-41f1-9b34-c55da283e549",
   "metadata": {},
   "source": [
    "PREPARATION FOR MULTIPLE SEQUENCE ALIGNMENT (MSA)"
   ]
  },
  {
   "cell_type": "code",
   "execution_count": null,
   "id": "1719fed0-debf-4cb2-a4f7-8a14e4b9d71e",
   "metadata": {},
   "outputs": [],
   "source": [
    "#code to count how many transcripts there are within a given read folder\n",
    "import pandas as pd\n",
    "import pyfaidx as f\n",
    "import os\n",
    "import glob \n",
    "os.getcwd()\n",
    "\n",
    "glob.glob(\"../fasta/*\") \n",
    "\n",
    "myfiles = glob.glob(\"../fasta/*\") \n",
    "\n",
    "outfile = open(\"NumberOfTranscriptsPerFile.txt\", \"w\")\n",
    "for file in myfiles:\n",
    "    count = 0 \n",
    "    lines = open(file).readlines()\n",
    "    for line in lines:\n",
    "        if line.startswith(\">\"):\n",
    "            count = count + 1\n",
    "    outfile.write(f\"{file}\\t{count}\\n\") \n",
    "outfile.close()"
   ]
  },
  {
   "cell_type": "code",
   "execution_count": null,
   "id": "bd644a0e-f93c-40f2-8624-3bdc2c8232a4",
   "metadata": {},
   "outputs": [],
   "source": [
    "#code to tabulate the number of transcripts per sample and present data in a histogram.\n",
    "\n",
    "import pandas as pd\n",
    "tab = pd.read_csv(\"C:\\\\Users\\\\lukew\\\\Desktop\\\\LabProjectBiocomp\\\\Notebook\\\\NumberOfTranscriptsPerFile.txt\", sep = \"\\t\", names=['file', 'count'])\n",
    "\n",
    "import matplotlib.pyplot as plt  \n",
    "%matplotlib inline   \n",
    "\n",
    "plt.hist(tab['count'], color = 'red', bins = 20)  \n",
    "plt.xlabel(\"number of transcripts per file\")\n",
    "plt.ylabel(\"frequency\")\n",
    "plt.title(\"Number of Transcripts per File\")"
   ]
  },
  {
   "cell_type": "markdown",
   "id": "efd6f588-2d94-438b-8246-fcc30270ff51",
   "metadata": {},
   "source": [
    "RUNNING MULTIPLE SEQUENCE ALIGNMENT (MSA)"
   ]
  },
  {
   "cell_type": "code",
   "execution_count": null,
   "id": "9b19f66b-cbb8-415e-9552-50f42d58a27c",
   "metadata": {},
   "outputs": [],
   "source": [
    "#MaRNAV1 Segment 1 MSA 1st attempt\n",
    "\n",
    "command = \"mafft --adjustdirection /home/lj1893/LabProjectBiocomp/fasta/VirusSequenceAssembly/RDRPPositiveContigs/RDRPPositiveContigs.fasta > /home/lj1893/LabProjectBiocomp/fasta/VirusSequenceAssembly/RDRPPositiveContigs/MultipleSequenceAlignment.fasta\"\n",
    "os.system(command)"
   ]
  },
  {
   "cell_type": "code",
   "execution_count": null,
   "id": "6faf11e7-d004-45d1-984e-88fa9eb26231",
   "metadata": {},
   "outputs": [],
   "source": [
    "#refining the dataset to exclude the spurious study\n",
    "\n",
    "PositiveNinetyFive = tab[tab[\"percent_identity\"] > 95]\n",
    "\n",
    "gb = PositiveNinetyFive.groupby('file') \n",
    "RDRPPositiveContigs = open(\"/home/lj1893/LabProjectBiocomp/fasta/VirusSequenceAssembly/RDRPPositiveContigs/RDRPPositiveContigsFiltered.fasta\", \"w\")\n",
    "gb.groups \n",
    "\n",
    "\n",
    "for group in gb.groups:  \n",
    "    one = group.split(\"/\")[-1]\n",
    "    two = one.split(\".out\")[0]\n",
    "    if \"SRR20668688.SRR20668689.SRR20668690.SRR20668691\" not in two:\n",
    "        fasta = f\"/home/lj1893/LabProjectBiocomp/fasta/assembled_fastas/{two}.fasta\"\n",
    "        FastaFileContents = f.Fasta(fasta)\n",
    "        small_table = gb.get_group(group) \n",
    "        for SequenceName in small_table['query']:\n",
    "            sequence = FastaFileContents[SequenceName][:]\n",
    "            s = sequence.seq\n",
    "            RDRPPositiveContigs.write(f\">{two}_{SequenceName}\\n{s}\\n\")\n",
    "            print(len(s))\n",
    "RDRPPositiveContigs.close()"
   ]
  },
  {
   "cell_type": "code",
   "execution_count": null,
   "id": "0858b6c5-4f8c-4173-98ad-94563e7c0011",
   "metadata": {},
   "outputs": [],
   "source": [
    "#MaRNAV1 Segment 1 MSA 2st attempt\n",
    "command = \"mafft --adjustdirection /home/lj1893/LabProjectBiocomp/fasta/VirusSequenceAssembly/RDRPPositiveContigs/RDRPPositiveContigsFiltered.fasta > /home/lj1893/LabProjectBiocomp/fasta/VirusSequenceAssembly/RDRPPositiveContigs/MultipleSequenceAlignmentFiltered.fasta\"\n",
    "os.system(command)"
   ]
  },
  {
   "cell_type": "code",
   "execution_count": null,
   "id": "e507b8e0-a298-46a5-a4eb-b2b756e5bfe0",
   "metadata": {},
   "outputs": [],
   "source": [
    "#MaRNAV1 Segment 1 MSA 3rd attempt, this time using CIAlign\n",
    "%%bash\n",
    "CIAlign --infile /home/lj1893/LabProjectBiocomp/fasta/VirusSequenceAssembly/RDRPPositiveContigs/MultipleSequenceAlignmentFiltered.fasta \\\n",
    "--outfile_stem /home/lj1893/LabProjectBiocomp/fasta/VirusSequenceAssembly/RDRPPositiveContigs/Seg1Alignment_ \\\n",
    "--deduplicate_ids \\\n",
    "--crop_divergent --crop_divergent_buffer 10 --crop_divergent_min_prop_nongap 0.1 --remove_insertions --insertion_min_size 1 --plot_output"
   ]
  },
  {
   "cell_type": "code",
   "execution_count": null,
   "id": "afcb91f9-d753-4c56-b7bf-4703cf756c47",
   "metadata": {},
   "outputs": [],
   "source": [
    "#MaRNAV1 Segment 2 MSA 3rd using CIAlign\n",
    "%%bash\n",
    "CIAlign --infile /home/lj1893/LabProjectBiocomp/fasta/VirusSequenceAssembly/HypotheticalProteinPositiveContigs/MultipleSequenceAlignmentFiltered.fasta \\\n",
    "--outfile_stem /home/lj1893/LabProjectBiocomp/fasta/VirusSequenceAssembly/HypotheticalProteinPositiveContigs/Seg2Alignment_ \\\n",
    "--deduplicate_ids \\\n",
    "--crop_divergent --crop_divergent_buffer 10 --crop_divergent_min_prop_nongap 0.1 --remove_insertions --insertion_min_size 1 --insertion_max_size 600 --plot_output "
   ]
  },
  {
   "cell_type": "markdown",
   "id": "1b0bea46-6b9a-4407-9c98-557ebccc068a",
   "metadata": {},
   "source": [
    "DETERMINING THE 5' AND 3' UTRs OF SEGMENT 1"
   ]
  },
  {
   "cell_type": "code",
   "execution_count": null,
   "id": "98b428da-beea-457d-b4a4-e2e9f0ee6e11",
   "metadata": {},
   "outputs": [],
   "source": [
    "#Segment1 5' end\n",
    "#processing and printing the 0-61\n",
    "\n",
    "import pyfaidx\n",
    "fasta = pyfaidx.Fasta(\"/home/lj1893/LabProjectBiocomp/fasta/VirusSequenceAssembly/RDRPPositiveContigs/Seg1Alignment__cleaned.fasta\")\n",
    "\n",
    "starts = set()\n",
    "\n",
    "for record in fasta:\n",
    "    name = record.name #turning the name of the file into a variable name\n",
    "    seq = str(record) #converting record to a string gives you back the sequence, stored as variable seq\n",
    "    seq_start = seq[0:60] #seq_start is storing the first 61 values of the string as a variable\n",
    "    seq_start_nogaps = seq_start.replace(\"-\", \"\")\n",
    "\n",
    "    if len(seq_start_nogaps) != 0:\n",
    "        starts.add(seq_start_nogaps)\n",
    "\n",
    "print(starts)"
   ]
  },
  {
   "cell_type": "code",
   "execution_count": null,
   "id": "10b053e8-5bf4-4f3e-9fcb-f406f3e7ce3b",
   "metadata": {},
   "outputs": [],
   "source": [
    "#Segment1 5' end\n",
    "# sorting the set of ends by discarding any shorter sequences that are parts of larger sequences. Keep the longer sequences.\n",
    "\n",
    "starts.sort(key=len, reverse=True)\n",
    "result_starts = []\n",
    "\n",
    "for s in starts:\n",
    "    if not any(s in other for other in result_starts):\n",
    "        result_starts.append(s)"
   ]
  },
  {
   "cell_type": "code",
   "execution_count": null,
   "id": "6a8fded3-4353-4297-be3c-3966d5f2e898",
   "metadata": {},
   "outputs": [],
   "source": [
    "#Segment1 3' end\n",
    "#processing and printing the 3086-end\n",
    "import pyfaidx\n",
    "fasta = pyfaidx.Fasta(\"/home/lj1893/LabProjectBiocomp/fasta/VirusSequenceAssembly/RDRPPositiveContigs/Seg1Alignment__cleaned.fasta\")\n",
    "\n",
    "ends = set()\n",
    "\n",
    "for record in fasta:\n",
    "    name = record.name #turning the name of the file into a variable name\n",
    "    seq = str(record) #converting record to a string gives you back the sequence, stored as variable seq\n",
    "    seq_ends = seq[3086:] #seq_start is storing the first 61 values of the string as a variable\n",
    "    seq_ends_nogaps = seq_ends.replace(\"-\", \"\")\n",
    "\n",
    "    if len(seq_ends_nogaps) != 0:\n",
    "        ends.add(seq_ends_nogaps)\n",
    "\n",
    "print(ends)"
   ]
  },
  {
   "cell_type": "code",
   "execution_count": null,
   "id": "e64446d1-20a6-4cd7-a746-61f449f0027f",
   "metadata": {},
   "outputs": [],
   "source": [
    "#Segment1 3' end\n",
    "# sorting the set of ends by discarding any shorter sequences that are parts of larger sequences. Keep the longer sequences.\n",
    "\n",
    "ends.sort(key=len, reverse=True)\n",
    "result_ends = []\n",
    "\n",
    "for e in ends:\n",
    "    if not any(e in other for other in result_ends):\n",
    "        result_ends.append(e)"
   ]
  },
  {
   "cell_type": "code",
   "execution_count": null,
   "id": "e8202941-d27b-4fa8-b1d4-edb644fa9136",
   "metadata": {},
   "outputs": [],
   "source": [
    "#Cropping alignment to keep columns 61 to 261\n",
    "#Removing gap only columns\n",
    "#Building 5' consensus buffer\n",
    "\n",
    "%%bash\n",
    "CIAlign --infile /home/lj1893/LabProjectBiocomp/fasta/VirusSequenceAssembly/RDRPPositiveContigs/Seg1Alignment__cleaned.fasta --outfile_stem /home/lj1893/LabProjectBiocomp/fasta/VirusSequenceAssembly/RDRPPositiveContigs/ConsensusBufferLeft_seg1 --get_section --section_start 61 --section_end 261 --make_consensus --consensus_type majority_nongap"
   ]
  },
  {
   "cell_type": "code",
   "execution_count": null,
   "id": "009fb578-3c73-4e26-81bd-b47c6fc66485",
   "metadata": {},
   "outputs": [],
   "source": [
    "#Cropping alignment to keep columns 3085 to end\n",
    "#Removing gap only columns\n",
    "#Building 3' consensus buffer\n",
    "%%bash\n",
    "CIAlign --infile /home/lj1893/LabProjectBiocomp/fasta/VirusSequenceAssembly/RDRPPositiveContigs/Seg1Alignment__cleaned.fasta --outfile_stem /home/lj1893/LabProjectBiocomp/fasta/VirusSequenceAssembly/RDRPPositiveContigs/ConsensusBufferRight_seg1 --get_section --section_start 2885 --section_end 3085 --make_consensus --consensus_type majority_nongap\n"
   ]
  },
  {
   "cell_type": "code",
   "execution_count": null,
   "id": "1657f751-a59d-4fc4-bfb2-39278350291b",
   "metadata": {},
   "outputs": [],
   "source": [
    "#combining 5' ends + 5' consensus buffer and transfering them to a fasta file\n",
    "\n",
    "left_fasta = pyfaidx.Fasta(\"/home/lj1893//LabProjectBiocomp/fasta/VirusSequenceAssembly/RDRPPositiveContigs/ConsensusBufferLeft_seg1_with_consensus.fasta\")\n",
    "right_fasta = pyfaidx.Fasta(\"/home/lj1893//LabProjectBiocomp/fasta/VirusSequenceAssembly/RDRPPositiveContigs/ConsensusBufferRight_seg1_with_consensus.fasta\")\n",
    "\n",
    "left_consensus_buffer_fasta = str(left_fasta['consensus'][:]) \n",
    "right_consensus_buffer_fasta = str(right_fasta['consensus'][:]) \n",
    "\n",
    "i = 1\n",
    "for start in result_starts:   \n",
    "    seq = start + left_consensus_buffer_fasta\n",
    "    out = open(f\"/home/lj1893/LabProjectBiocomp/fasta/VirusSequenceAssembly/RDRPPositiveContigs/StartsPlusBufferLeft/StartL_{i}.fasta\", 'w')\n",
    "    out.write(f\">start_{i}\\n{seq}\\n\")\n",
    "    out.close() \n",
    "    i = i + 1"
   ]
  },
  {
   "cell_type": "code",
   "execution_count": null,
   "id": "92a5b82b-c375-4fc7-9a2f-56a0da4f6ddd",
   "metadata": {},
   "outputs": [],
   "source": [
    "#combining 3' ends + 3' consensus buffer and transfering them to a fasta file\n",
    "\n",
    "left_fasta = pyfaidx.Fasta(\"/home/lj1893//LabProjectBiocomp/fasta/VirusSequenceAssembly/RDRPPositiveContigs/ConsensusBufferLeft_seg1_with_consensus.fasta\")\n",
    "right_fasta = pyfaidx.Fasta(\"/home/lj1893//LabProjectBiocomp/fasta/VirusSequenceAssembly/RDRPPositiveContigs/ConsensusBufferRight_seg1_with_consensus.fasta\")\n",
    "\n",
    "left_consensus_buffer_fasta = str(left_fasta['consensus'][:])\n",
    "right_consensus_buffer_fasta = str(right_fasta['consensus'][:]) \n",
    "i = 1\n",
    "for end in result_ends:   \n",
    "    seq = right_consensus_buffer_fasta + end\n",
    "    out = open(f\"/home/lj1893/LabProjectBiocomp/fasta/VirusSequenceAssembly/RDRPPositiveContigs/EndsPlusBufferRight/EndR_{i}.fasta\", 'w')\n",
    "    out.write(f\">end_{i}\\n{seq}\\n\")\n",
    "    out.close() \n",
    "    i = i + 1"
   ]
  },
  {
   "cell_type": "markdown",
   "id": "f358e00d-2357-4769-8ddf-aa058d0f616b",
   "metadata": {},
   "source": [
    "DETERMINING THE 5' AND 3' UTRs OF SEGMENT 2"
   ]
  },
  {
   "cell_type": "code",
   "execution_count": null,
   "id": "05038bd5-30f5-4c91-9e52-2792a10d3eda",
   "metadata": {},
   "outputs": [],
   "source": [
    "#Segment2 5' end\n",
    "#processing and printing the 0-39\n",
    "\n",
    "import pyfaidx\n",
    "fasta = pyfaidx.Fasta(\"/home/lj1893/LabProjectBiocomp/fasta/VirusSequenceAssembly/HypotheticalProteinPositiveContigs/Seg2Alignment__cleaned.fasta\")\n",
    "\n",
    "starts = set()\n",
    "\n",
    "for record in fasta:\n",
    "    name = record.name \n",
    "    seq = str(record)\n",
    "    seq_start = seq[0:39] \n",
    "    seq_start_nogaps = seq_start.replace(\"-\", \"\")\n",
    "\n",
    "    if len(seq_start_nogaps) != 0:\n",
    "        starts.add(seq_start_nogaps)\n",
    "\n",
    "print(starts)"
   ]
  },
  {
   "cell_type": "code",
   "execution_count": null,
   "id": "a7208cd0-dd65-4146-961e-b8f92f07ec28",
   "metadata": {},
   "outputs": [],
   "source": [
    "#Segment2 5' end\n",
    "# sorting the set of ends by discarding any shorter sequences that are parts of larger sequences. Keep the longer sequences.\n",
    "\n",
    "starts.sort(key=len, reverse=True)\n",
    "result_starts = []\n",
    "\n",
    "for s in starts:\n",
    "    if not any(s in other for other in result_starts):\n",
    "        result_starts.append(s)"
   ]
  },
  {
   "cell_type": "code",
   "execution_count": null,
   "id": "30fac547-8090-43ee-ad0f-ebcfecf635a9",
   "metadata": {},
   "outputs": [],
   "source": [
    "#Cropping alignment to keep columns 39 to 239\n",
    "#Removing gap only columns\n",
    "#Building 5' consensus buffer\n",
    "%%bash\n",
    "CIAlign --infile /home/lj1893/LabProjectBiocomp/fasta/VirusSequenceAssembly/HypotheticalProteinPositiveContigs/Seg2Alignment__cleaned.fasta --outfile_stem /home/lj1893/LabProjectBiocomp/fasta/VirusSequenceAssembly/HypotheticalProteinPositiveContigs/ConsensusBufferLeft_seg2 --get_section --section_start 39 --section_end 239 --make_consensus --consensus_type majority_nongap"
   ]
  },
  {
   "cell_type": "code",
   "execution_count": null,
   "id": "ac3630d9-9e65-4373-913d-8976a99be720",
   "metadata": {},
   "outputs": [],
   "source": [
    "#combining 5' ends + 5' consensus buffer and transfering them to a fasta file\n",
    "\n",
    "left_fasta = pyfaidx.Fasta(\"/home/lj1893/LabProjectBiocomp/fasta/VirusSequenceAssembly/HypotheticalProteinPositiveContigs/ConsensusBufferLeft_seg2_with_consensus.fasta\")\n",
    "\n",
    "left_consensus_buffer_fasta = str(left_fasta['consensus'][:]) #taking the bottom line of the left fasta (which is the consensus sequnece - see one note for pic)\n",
    "\n",
    "i = 1\n",
    "for start in result_starts:    #adding the consensus buffer sequnece to the ends (left)\n",
    "    seq = start + left_consensus_buffer_fasta\n",
    "    out = open(f\"/home/lj1893/LabProjectBiocomp/fasta/VirusSequenceAssembly/HypotheticalProteinPositiveContigs/StartsPlusBufferLeft/StartL_{i}.fasta\", 'w')\n",
    "    out.write(f\">start_{i}\\n{seq}\\n\")\n",
    "    out.close() \n",
    "    i = i + 1"
   ]
  },
  {
   "cell_type": "code",
   "execution_count": null,
   "id": "ffab8acd-2bab-424a-b9ff-0862f8369440",
   "metadata": {},
   "outputs": [],
   "source": [
    "REMAPPING OF ORIGINAL READS TO THESE VARIABLE END FRAGMENTS (CODE WRITTEN BY MY SUPERVISOR KATHERINE BROWN)"
   ]
  },
  {
   "cell_type": "code",
   "execution_count": null,
   "id": "e82f88c4-0fea-4eda-b8e2-0e4601c558a4",
   "metadata": {},
   "outputs": [],
   "source": [
    "#find all start and end sequences (made up of combined variable regions and 200 nucleotide consensus buffer)\n",
    "#build a bowtie2 index for each start & end fasta file - allows the software to map reads to this file\n",
    "\n",
    "import pandas as pd\n",
    "import numpy as np\n",
    "import pyfaidx\n",
    "import glob\n",
    "import os\n",
    "\n",
    "starts = sorted(glob.glob(\"start_seqs/*fasta\"))\n",
    "ends = sorted(glob.glob(\"end_seqs/*fasta\"))\n",
    "\n",
    "for st in starts:\n",
    "    stem = st.replace(\".fasta\", \"\")\n",
    "    statement = f\"bowtie2-build {st} {stem}\"\n",
    "    os.system(statement)\n",
    "\n",
    "for en in ends:\n",
    "    stem = en.replace(\".fasta\", \"\")\n",
    "    statement = f\"bowtie2-build {en} {stem}\"\n",
    "    os.system(statement)\n",
    "\n",
    "reads = glob.glob(\"reads/*fastq*\")"
   ]
  },
  {
   "cell_type": "code",
   "execution_count": null,
   "id": "171bd290-cf54-40cd-a152-6936f078e1e1",
   "metadata": {},
   "outputs": [],
   "source": [
    "# code to perform the remapping of the reads to the starts and the ends\n",
    "#code can be re-used for Segment 2 by changing out the file names\n",
    "\n",
    "\n",
    "# Loop through the files containing the reads\n",
    "for rfile in reads:\n",
    "    # Get the sample ID from the file name\n",
    "    rnam = rfile.split(\"/\")[-1].split(\"_final\")[0]\n",
    "    # Loop through each start sequence\n",
    "    for st in starts:\n",
    "        # Find the index of the start sequence\n",
    "        stem = st.replace(\".fasta\", \"\")\n",
    "        ind = stem.split(\"_\")[-1]\n",
    "        \n",
    "        # Run bowtie to map the reads to the start sequence\n",
    "        # ignore-quals is because lots of the FASTQ files have no \n",
    "        # quality scores\n",
    "        # Convert the bowtie2 output file to a more compressed format\n",
    "        # and filter out poor quality and unmapped reads\n",
    "        statement = f\"\"\"bowtie2 -x {stem} -U {rfile} --ignore-quals |\\\n",
    "                       samtools view -F4 -q 40 -b |\\\n",
    "                       samtools sort > bams_new/{rnam}_{ind}_start.bam\"\"\"\n",
    "        os.system(statement)\n",
    "        # Index the output file so the data can be accessed more quickly\n",
    "        statement = f\"samtools index bams_new/{rnam}_{ind}_start.bam\"\n",
    "        os.system(statement)\n",
    "    for en in ends:\n",
    "        # Find the index of the end sequence\n",
    "        stem = en.replace(\".fasta\", \"\")\n",
    "        ind = stem.split(\"_\")[-1]\n",
    "        # Run bowtie to map the reads to the end sequence\n",
    "        # ignore-quals is because lots of the FASTQ files have no \n",
    "        # quality scores\n",
    "        # Convert the bowtie2 output file to a more compressed format\n",
    "        # and filter out poor quality and unmapped reads\n",
    "        statement = f\"\"\"bowtie2 -x {stem} -U {rfile} --ignore-quals |\\\n",
    "                       samtools view -F4 -q 40 -b |\\\n",
    "                       samtools sort > bams_new/{rnam}_{ind}_end.bam\"\"\"\n",
    "        os.system(statement)\n",
    "        # Index the output file so the data can be accessed more quickly\n",
    "        statement = f\"samtools index bams_new/{rnam}_{ind}_end.bam\"\n",
    "        os.system(statement)\n"
   ]
  },
  {
   "cell_type": "code",
   "execution_count": null,
   "id": "0150ac19-9237-46dc-a5cc-67d7e6c42059",
   "metadata": {},
   "outputs": [],
   "source": [
    "\n",
    "starts = sorted(glob.glob(\"start_seqs_seg2/*fasta\"))\n",
    "\n",
    "for st in starts:\n",
    "    stem = st.replace(\".fasta\", \"\")\n",
    "    statement = f\"bowtie2-build {st} {stem}\"\n",
    "    os.system(statement)\n",
    "\n",
    "reads = ['reads/SRR20668524.SRR20668525.SRR20668526.SRR20668527_final.fastq.gz',\n",
    "         'reads/SRR20668844.SRR20668845.SRR20668846.SRR20668847_final.fastq.gz']\n",
    "\n",
    "for rfile in reads:\n",
    "    rnam = rfile.split(\"/\")[-1].split(\"_final\")[0]\n",
    "    for st in starts:\n",
    "        stem = st.replace(\".fasta\", \"\")\n",
    "        ind = stem.split(\"_\")[-1]\n",
    "        if not os.path.exists(f\"bams_new_s2/{rnam}_{ind}_start.bam\"):\n",
    "            statement = f\"\"\"bowtie2 -x {stem} -U {rfile} --ignore-quals |\\\n",
    "                           samtools view -F4 -q 40 -b |\\\n",
    "                           samtools sort > bams_new_s2/{rnam}_{ind}_start.bam\"\"\"\n",
    "            os.system(statement)\n",
    "            statement = f\"samtools index bams_new_s2/{rnam}_{ind}_start.bam\"\n",
    "            os.system(statement)\n"
   ]
  },
  {
   "cell_type": "markdown",
   "id": "3f8f5bc6-78d5-4848-a289-5d439b7216a4",
   "metadata": {},
   "source": [
    "CONSENSUS SEQUENCES OF THE VARIABLE ENDS AND CENTRAL REGIONS WERE MANUALLY COMBINED USING A TEXT EDITOR TO GIVE THE OVERALL CONSENSUS SEQUENCE FOR EACH MARNAV1 SEGMENT."
   ]
  }
 ],
 "metadata": {
  "kernelspec": {
   "display_name": "Python 3 (ipykernel)",
   "language": "python",
   "name": "python3"
  },
  "language_info": {
   "codemirror_mode": {
    "name": "ipython",
    "version": 3
   },
   "file_extension": ".py",
   "mimetype": "text/x-python",
   "name": "python",
   "nbconvert_exporter": "python",
   "pygments_lexer": "ipython3",
   "version": "3.12.2"
  }
 },
 "nbformat": 4,
 "nbformat_minor": 5
}
